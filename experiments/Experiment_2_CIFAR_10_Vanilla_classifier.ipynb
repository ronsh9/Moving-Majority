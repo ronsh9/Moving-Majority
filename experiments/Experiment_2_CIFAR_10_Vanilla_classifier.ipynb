{
  "cells": [
    {
      "cell_type": "code",
      "execution_count": 8,
      "id": "ef1077c4",
      "metadata": {
        "id": "ef1077c4"
      },
      "outputs": [],
      "source": [
        "from sklearn.ensemble import RandomForestClassifier\n",
        "import numpy as np\n",
        "from scipy import stats\n",
        "\n",
        "import torch\n",
        "import torch.nn as nn\n",
        "import torch.nn.functional as F\n",
        "\n",
        "import torchvision\n",
        "import torchvision.transforms as transforms\n",
        "\n",
        "import matplotlib.pyplot as plt\n",
        "import numpy as np\n",
        "\n",
        "from sklearn.metrics import accuracy_score, precision_score, recall_score\n",
        "import random\n",
        "\n",
        "from sklearn.utils import resample\n",
        "\n",
        "import matplotlib.pyplot as plt\n",
        "from tensorflow.keras.datasets import cifar10\n",
        "import pandas as pd\n",
        "from sklearn.model_selection import train_test_split\n",
        "from tensorflow.keras.datasets import imdb\n",
        "import tensorflow as tf"
      ]
    },
    {
      "cell_type": "code",
      "execution_count": null,
      "id": "36173b0f",
      "metadata": {
        "id": "36173b0f"
      },
      "outputs": [],
      "source": [
        "class UNet(nn.Module):\n",
        "    def __init__(self, embedding_size=64):\n",
        "        super(UNet, self).__init__()\n",
        "\n",
        "        # Define the encoder part\n",
        "        self.enc_conv1 = nn.Conv2d(1, 16, kernel_size=3, padding=1)\n",
        "        self.enc_conv2 = nn.Conv2d(16, 32, kernel_size=3, padding=1)\n",
        "        self.pool = nn.MaxPool2d(2, 2)\n",
        "\n",
        "        # Define the bottleneck part\n",
        "        self.bottleneck_conv = nn.Conv2d(32, 64, kernel_size=3, padding=1)\n",
        "        self.flatten = nn.Flatten()\n",
        "        self.fc = nn.Linear(7*7*64, embedding_size)\n",
        "\n",
        "    def forward(self, x):\n",
        "        # Encoder\n",
        "        x = F.relu(self.enc_conv1(x))\n",
        "        x = self.pool(x)\n",
        "        x = F.relu(self.enc_conv2(x))\n",
        "        x = self.pool(x)\n",
        "\n",
        "        # Bottleneck\n",
        "        x = F.relu(self.bottleneck_conv(x))\n",
        "        x = self.flatten(x)\n",
        "        x = self.fc(x)\n",
        "\n",
        "        return x\n",
        "\n",
        "model = UNet()"
      ]
    },
    {
      "cell_type": "code",
      "execution_count": 9,
      "id": "a9b7ab6b",
      "metadata": {
        "id": "a9b7ab6b"
      },
      "outputs": [],
      "source": [
        "def imbalance_classes(X, y, imb_type='exp', imb_factor=0.01):\n",
        "    np.random.seed(42)\n",
        "    unique_classes = np.unique(y)\n",
        "    num_classes = len(unique_classes)\n",
        "    img_max = len(X) / num_classes\n",
        "\n",
        "    img_num_per_cls = []\n",
        "    if imb_type == 'exp':\n",
        "        for cls_idx in range(num_classes):\n",
        "            num = img_max * (imb_factor**(cls_idx / (num_classes - 1.0)))\n",
        "            img_num_per_cls.append(int(num))\n",
        "    elif imb_type == 'step':\n",
        "        for cls_idx in range(num_classes // 2):\n",
        "            img_num_per_cls.append(int(img_max))\n",
        "        for cls_idx in range(num_classes // 2):\n",
        "            img_num_per_cls.append(int(img_max * imb_factor))\n",
        "    else:\n",
        "        img_num_per_cls.extend([int(img_max)] * num_classes)\n",
        "\n",
        "    X_imb, y_imb = [], []\n",
        "    for cls, img_num in zip(unique_classes, img_num_per_cls):\n",
        "        idx = np.random.choice(np.where(y == cls)[0], img_num, replace=False)\n",
        "        X_imb.append(X[idx])\n",
        "        y_imb.append(y[idx])\n",
        "\n",
        "    X_imb = np.concatenate(X_imb)\n",
        "    y_imb = np.concatenate(y_imb)\n",
        "\n",
        "    return X_imb, y_imb"
      ]
    },
    {
      "cell_type": "code",
      "execution_count": 10,
      "id": "3bc47c73",
      "metadata": {
        "id": "3bc47c73"
      },
      "outputs": [],
      "source": [
        "def load_imbalanced_cifar10(imbalance_type='exp', imbalance_ratio=0.01):\n",
        "    (X_train, y_train), (X_test, y_test) = cifar10.load_data()\n",
        "    X_train_imb, y_train_imb = imbalance_classes(X_train, y_train.flatten(), imbalance_type, imbalance_ratio)\n",
        "    return X_train_imb, X_test, y_train_imb, y_test.flatten()"
      ]
    },
    {
      "cell_type": "code",
      "execution_count": null,
      "id": "ecd8c2f5",
      "metadata": {
        "colab": {
          "base_uri": "https://localhost:8080/"
        },
        "id": "ecd8c2f5",
        "outputId": "5faae257-e5be-43ac-990f-0ab5615dd4f6"
      },
      "outputs": [
        {
          "output_type": "stream",
          "name": "stdout",
          "text": [
            "Downloading data from https://www.cs.toronto.edu/~kriz/cifar-10-python.tar.gz\n",
            "170498071/170498071 [==============================] - 2s 0us/step\n"
          ]
        }
      ],
      "source": [
        "X_train_imb, X_test, y_train_imb, y_test = load_imbalanced_cifar10(imbalance_type='exp', imbalance_ratio=0.1)"
      ]
    },
    {
      "cell_type": "code",
      "execution_count": 11,
      "id": "7a6ca5a5",
      "metadata": {
        "id": "7a6ca5a5"
      },
      "outputs": [],
      "source": [
        "class UNet(nn.Module):\n",
        "    def __init__(self, embedding_size=64):\n",
        "        super(UNet, self).__init__()\n",
        "\n",
        "        # Modified to accept 3-channel input\n",
        "        self.enc_conv1 = nn.Conv2d(3, 16, kernel_size=3, padding=1)\n",
        "        self.enc_conv2 = nn.Conv2d(16, 32, kernel_size=3, padding=1)\n",
        "        self.pool = nn.MaxPool2d(2, 2)\n",
        "\n",
        "        # Define the bottleneck part\n",
        "        self.bottleneck_conv = nn.Conv2d(32, 64, kernel_size=3, padding=1)\n",
        "        self.flatten = nn.Flatten()\n",
        "        self.fc = nn.Linear(64 * 8 * 8, embedding_size)  # Adjusted for CIFAR10 size after pooling\n",
        "\n",
        "    def forward(self, x):\n",
        "        # Encoder\n",
        "        x = F.relu(self.enc_conv1(x))\n",
        "        x = self.pool(x)\n",
        "        x = F.relu(self.enc_conv2(x))\n",
        "        x = self.pool(x)\n",
        "\n",
        "        # Bottleneck\n",
        "        x = F.relu(self.bottleneck_conv(x))\n",
        "        x = self.flatten(x)\n",
        "        x = self.fc(x)\n",
        "\n",
        "        return x"
      ]
    },
    {
      "cell_type": "code",
      "source": [
        "X_train_tensor = torch.from_numpy(X_train_imb).float()\n",
        "X_train_tensor = X_train_tensor.permute(0, 3, 1, 2)"
      ],
      "metadata": {
        "id": "WQXl1NggbXrG"
      },
      "id": "WQXl1NggbXrG",
      "execution_count": 12,
      "outputs": []
    },
    {
      "cell_type": "code",
      "source": [
        "model = UNet()"
      ],
      "metadata": {
        "id": "RfRmOWXxbdr8"
      },
      "id": "RfRmOWXxbdr8",
      "execution_count": 13,
      "outputs": []
    },
    {
      "cell_type": "code",
      "execution_count": 15,
      "id": "c88830e9",
      "metadata": {
        "colab": {
          "base_uri": "https://localhost:8080/"
        },
        "id": "c88830e9",
        "outputId": "293d9e81-4067-41c4-ee95-60a85eea7009"
      },
      "outputs": [
        {
          "output_type": "execute_result",
          "data": {
            "text/plain": [
              "tensor([[-2.8296, 10.3660,  1.0588,  ..., -4.9630, -4.3389,  7.5269],\n",
              "        [-1.7559,  5.4672,  1.0590,  ..., -4.1336, -5.3350,  6.0308],\n",
              "        [-0.9531, 10.3312,  3.0008,  ..., -5.3253, -5.1206,  7.5419],\n",
              "        ...,\n",
              "        [-3.2185,  7.0926,  4.4474,  ..., -5.7924, -4.7102,  9.2088],\n",
              "        [-2.5101,  5.4834,  1.9924,  ..., -0.9995, -4.1074,  7.3890],\n",
              "        [-6.0206,  8.9397,  6.8829,  ..., -2.8011, -3.8728,  6.5218]],\n",
              "       grad_fn=<AddmmBackward0>)"
            ]
          },
          "metadata": {},
          "execution_count": 15
        }
      ],
      "source": [
        "model(X_train_tensor)"
      ]
    },
    {
      "cell_type": "code",
      "execution_count": null,
      "id": "5b40f271",
      "metadata": {
        "id": "5b40f271"
      },
      "outputs": [],
      "source": []
    }
  ],
  "metadata": {
    "kernelspec": {
      "display_name": "Python 3 (ipykernel)",
      "language": "python",
      "name": "python3"
    },
    "language_info": {
      "codemirror_mode": {
        "name": "ipython",
        "version": 3
      },
      "file_extension": ".py",
      "mimetype": "text/x-python",
      "name": "python",
      "nbconvert_exporter": "python",
      "pygments_lexer": "ipython3",
      "version": "3.11.4"
    },
    "colab": {
      "provenance": []
    }
  },
  "nbformat": 4,
  "nbformat_minor": 5
}
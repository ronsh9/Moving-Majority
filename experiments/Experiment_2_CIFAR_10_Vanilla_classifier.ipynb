{
 "cells": [
  {
   "cell_type": "code",
   "execution_count": 1,
   "id": "ef1077c4",
   "metadata": {
    "id": "ef1077c4"
   },
   "outputs": [],
   "source": [
    "from sklearn.ensemble import RandomForestClassifier\n",
    "import numpy as np\n",
    "from scipy import stats\n",
    "\n",
    "import torch\n",
    "import torch.nn as nn\n",
    "import torch.nn.functional as F\n",
    "\n",
    "import torchvision\n",
    "import torchvision.transforms as transforms\n",
    "\n",
    "import matplotlib.pyplot as plt\n",
    "import numpy as np\n",
    "\n",
    "from sklearn.metrics import accuracy_score, precision_score, recall_score\n",
    "import random\n",
    "\n",
    "from sklearn.utils import resample\n",
    "\n",
    "import matplotlib.pyplot as plt\n",
    "from tensorflow.keras.datasets import cifar10\n",
    "import pandas as pd\n",
    "from sklearn.model_selection import train_test_split\n",
    "from tensorflow.keras.datasets import imdb\n",
    "import tensorflow as tf"
   ]
  },
  {
   "cell_type": "code",
   "execution_count": 3,
   "id": "a9b7ab6b",
   "metadata": {
    "id": "a9b7ab6b"
   },
   "outputs": [],
   "source": [
    "def imbalance_classes(X, y, imb_type='exp', imb_factor=0.01):\n",
    "    np.random.seed(42)\n",
    "    unique_classes = np.unique(y)\n",
    "    num_classes = len(unique_classes)\n",
    "    img_max = len(X) / num_classes\n",
    "\n",
    "    img_num_per_cls = []\n",
    "    if imb_type == 'exp':\n",
    "        for cls_idx in range(num_classes):\n",
    "            num = img_max * (imb_factor**(cls_idx / (num_classes - 1.0)))\n",
    "            img_num_per_cls.append(int(num))\n",
    "    elif imb_type == 'step':\n",
    "        for cls_idx in range(num_classes // 2):\n",
    "            img_num_per_cls.append(int(img_max))\n",
    "        for cls_idx in range(num_classes // 2):\n",
    "            img_num_per_cls.append(int(img_max * imb_factor))\n",
    "    else:\n",
    "        img_num_per_cls.extend([int(img_max)] * num_classes)\n",
    "\n",
    "    X_imb, y_imb = [], []\n",
    "    for cls, img_num in zip(unique_classes, img_num_per_cls):\n",
    "        idx = np.random.choice(np.where(y == cls)[0], img_num, replace=False)\n",
    "        X_imb.append(X[idx])\n",
    "        y_imb.append(y[idx])\n",
    "\n",
    "    X_imb = np.concatenate(X_imb)\n",
    "    y_imb = np.concatenate(y_imb)\n",
    "\n",
    "    return X_imb, y_imb"
   ]
  },
  {
   "cell_type": "code",
   "execution_count": 23,
   "id": "3bc47c73",
   "metadata": {
    "id": "3bc47c73"
   },
   "outputs": [],
   "source": [
    "def load_imbalanced_cifar10(imbalance_type='exp', imbalance_ratio=0.01):\n",
    "    (X_train, y_train), (X_test, y_test) = cifar10.load_data()\n",
    "    X_test_imb, y_test_imb = imbalance_classes(X_test, y_test.flatten(), imbalance_type, imbalance_ratio)\n",
    "    return X_train, X_test_imb, y_train.flatten(), y_test_imb.flatten()"
   ]
  },
  {
   "cell_type": "code",
   "execution_count": 24,
   "id": "ecd8c2f5",
   "metadata": {
    "colab": {
     "base_uri": "https://localhost:8080/"
    },
    "id": "ecd8c2f5",
    "outputId": "5faae257-e5be-43ac-990f-0ab5615dd4f6"
   },
   "outputs": [],
   "source": [
    "X_train, X_test_imb, y_train, y_test_imb = load_imbalanced_cifar10(imbalance_type='exp', imbalance_ratio=0.1)"
   ]
  },
  {
   "cell_type": "code",
   "execution_count": 25,
   "id": "7a6ca5a5",
   "metadata": {
    "id": "7a6ca5a5"
   },
   "outputs": [],
   "source": [
    "class UNet(nn.Module):\n",
    "    def __init__(self, embedding_size=64):\n",
    "        super(UNet, self).__init__()\n",
    "\n",
    "        # Modified to accept 3-channel input\n",
    "        self.enc_conv1 = nn.Conv2d(3, 16, kernel_size=3, padding=1)\n",
    "        self.enc_conv2 = nn.Conv2d(16, 32, kernel_size=3, padding=1)\n",
    "        self.pool = nn.MaxPool2d(2, 2)\n",
    "\n",
    "        # Define the bottleneck part\n",
    "        self.bottleneck_conv = nn.Conv2d(32, 64, kernel_size=3, padding=1)\n",
    "        self.flatten = nn.Flatten()\n",
    "        self.fc = nn.Linear(64 * 8 * 8, embedding_size)  # Adjusted for CIFAR10 size after pooling\n",
    "\n",
    "    def forward(self, x):\n",
    "        # Encoder\n",
    "        x = F.relu(self.enc_conv1(x))\n",
    "        x = self.pool(x)\n",
    "        x = F.relu(self.enc_conv2(x))\n",
    "        x = self.pool(x)\n",
    "\n",
    "        # Bottleneck\n",
    "        x = F.relu(self.bottleneck_conv(x))\n",
    "        x = self.flatten(x)\n",
    "        x = self.fc(x)\n",
    "\n",
    "        return x"
   ]
  },
  {
   "cell_type": "code",
   "execution_count": 17,
   "id": "WQXl1NggbXrG",
   "metadata": {
    "id": "WQXl1NggbXrG"
   },
   "outputs": [],
   "source": [
    "model = UNet()\n",
    "\n",
    "def encode_dataset(dataset, model):\n",
    "    dataset_tensor = torch.from_numpy(dataset).float().permute(0, 3, 1, 2)\n",
    "    return model(dataset_tensor)\n",
    "\n",
    "X_train_tensor = encode_dataset(X_train, model)\n",
    "X_test_tensor = encode_dataset(X_test_imb, model)"
   ]
  },
  {
   "cell_type": "code",
   "execution_count": 26,
   "id": "f198a2b0",
   "metadata": {},
   "outputs": [
    {
     "data": {
      "text/plain": [
       "tensor([[ -6.8477,  -1.8986,   7.2336,  ...,  -5.4892,   5.6089,   2.9822],\n",
       "        [ -6.8032,  -1.2671,  13.3386,  ...,  -3.6242,   8.0908,   1.7052],\n",
       "        [ -7.7280,  -1.9915,   8.8133,  ...,  -6.0785,  11.0295,   5.5293],\n",
       "        ...,\n",
       "        [ -5.0995,   0.7012,  10.5406,  ...,  -3.7965,  10.3037,   4.9536],\n",
       "        [-10.2541,   0.7576,  15.1030,  ...,  -8.0255,   9.5809,   4.2158],\n",
       "        [ -9.7401,  -0.6354,  12.2311,  ...,  -6.2771,   8.6090,   5.1599]],\n",
       "       grad_fn=<AddmmBackward0>)"
      ]
     },
     "execution_count": 26,
     "metadata": {},
     "output_type": "execute_result"
    }
   ],
   "source": [
    "class BiasedRandomForestClassifier(RandomForestClassifier):\n",
    "    def __init__(self,\n",
    "                 n_estimators=100,\n",
    "                 criterion='gini',\n",
    "                 max_depth=None,\n",
    "                 min_samples_split=2,\n",
    "                 min_samples_leaf=1,\n",
    "                 min_weight_fraction_leaf=0.0,\n",
    "                 max_features='sqrt',\n",
    "                 max_leaf_nodes=None,\n",
    "                 min_impurity_decrease=0.0,\n",
    "                 bootstrap=True,\n",
    "                 oob_score=False,\n",
    "                 n_jobs=None,\n",
    "                 random_state=None,\n",
    "                 verbose=0,\n",
    "                 warm_start=False,\n",
    "                 class_weight=None,\n",
    "                 ccp_alpha=0.0,\n",
    "                 max_samples=None,\n",
    "                n_classes = 10):\n",
    "\n",
    "        super(BiasedRandomForestClassifier, self).__init__(\n",
    "            n_estimators=n_estimators,\n",
    "            criterion=criterion,\n",
    "            max_depth=max_depth,\n",
    "            min_samples_split=min_samples_split,\n",
    "            min_samples_leaf=min_samples_leaf,\n",
    "            min_weight_fraction_leaf=min_weight_fraction_leaf,\n",
    "            max_features=max_features,\n",
    "            max_leaf_nodes=max_leaf_nodes,\n",
    "            min_impurity_decrease=min_impurity_decrease,\n",
    "            bootstrap=bootstrap,\n",
    "            oob_score=oob_score,\n",
    "            n_jobs=n_jobs,\n",
    "            random_state=random_state,\n",
    "            verbose=verbose,\n",
    "            warm_start=warm_start,\n",
    "            class_weight=class_weight,\n",
    "            ccp_alpha=ccp_alpha,\n",
    "            max_samples=max_samples)\n",
    "        \n",
    "        self.n_classes = n_classes\n",
    "        self.thresholds = [1/self.n_classes for _ in range(self.n_classes)]\n",
    "\n",
    "    def fit(self, X, y, sample_weight=None):\n",
    "        return super(BiasedRandomForestClassifier, self).fit(X, y, sample_weight)\n",
    "\n",
    "    def fit_thresholds(self, X, y, alpha = 0.01, batches = 50, sample_weight = None):\n",
    "        X_batches = np.array_split(X, batches)\n",
    "        y_batches = np.array_split(y, batches)\n",
    "        cnt = 0\n",
    "        for X_batch, y_batch in zip(X_batches, y_batches):\n",
    "            cnt += 1\n",
    "            y_pred = self.predict(X_batch)\n",
    "            for y_p, y in zip(y_pred, y_batch):\n",
    "                if y_p != y:\n",
    "                    diff = alpha * self.thresholds[y]\n",
    "                    self.thresholds[y_p] += diff\n",
    "                    self.thresholds[y] -= diff\n",
    "#             print('Batch No: ', cnt, '\\nThresholds: ', self.thresholds)\n",
    "        return self.thresholds\n",
    "\n",
    "    def predict(self, X):\n",
    "        proba = self.predict_proba(X)\n",
    "        return np.argmax(proba - self.thresholds, axis = 1)\n",
    "    \n",
    "    def predict_biased_label_shift(self, X, train_ratios, test_ratios):\n",
    "        proba = self.predict_proba(X)\n",
    "        for i in range(10):\n",
    "            proba[:, i] *= test_ratios[i] / train_ratios[i]\n",
    "        proba /= proba.sum(axis = 1, keepdims = True)\n",
    "        return np.argmax(proba - self.thresholds, axis = 1)\n",
    "    \n",
    "    def predict_biased_online(self, X, y, alpha = 0.01):\n",
    "        res = []\n",
    "        for (xi, yi) in zip(X, y):\n",
    "            proba = self.predict_proba([xi])\n",
    "            predicted_class = np.argmax(proba - self.thresholds, axis = 1)[0]\n",
    "            res.append(predicted_class)\n",
    "            if predicted_class != yi:\n",
    "                diff = alpha * self.thresholds[yi]\n",
    "                self.thresholds[predicted_class] += diff\n",
    "                self.thresholds[yi] -= diff\n",
    "        return np.array(res)"
   ]
  },
  {
   "cell_type": "code",
   "execution_count": null,
   "id": "23e54bcc",
   "metadata": {},
   "outputs": [],
   "source": []
  }
 ],
 "metadata": {
  "colab": {
   "provenance": []
  },
  "kernelspec": {
   "display_name": "Python 3 (ipykernel)",
   "language": "python",
   "name": "python3"
  },
  "language_info": {
   "codemirror_mode": {
    "name": "ipython",
    "version": 3
   },
   "file_extension": ".py",
   "mimetype": "text/x-python",
   "name": "python",
   "nbconvert_exporter": "python",
   "pygments_lexer": "ipython3",
   "version": "3.11.4"
  }
 },
 "nbformat": 4,
 "nbformat_minor": 5
}
